{
 "cells": [
  {
   "cell_type": "markdown",
   "metadata": {},
   "source": [
    "# Continous PDE Dynamics Forecasting with Implicit Neural Representations\n",
    "\n",
    "### Yin et al., ICLR 2023\n",
    "\n",
    "Tutorial presented by: Jaisidh Singh and Arkadijs Sergejevs"
   ]
  },
  {
   "cell_type": "markdown",
   "metadata": {},
   "source": [
    "## Introduction\n",
    "\n",
    "- Partial differential equations (PDEs) are indispensible tools to model the dynamics and temporal evolution of physical phenomena.\n",
    "\n",
    "- In classical methods, the dynamics described by PDEs are solved by numerical solvers, which are highly accurate but computationally slow.\n",
    "\n",
    "- Recently, data produced by simulations has enabled deep learning based PDE forecasting, which what this work deals with.\n",
    "\n",
    "## Motivation and Problem Statement\n",
    "\n",
    "- PDE forecasting in areas like weather prediction can require extrapolation through new and arbitrary points in time or space.\n",
    "\n",
    "- Current data-driven forecasting methods have notable drawbacks as they often rely fixed discretizations of the space domain, hence they\n",
    "\n",
    "    1. Do not generalize outside the space seen during training (train grid)\n",
    "    2. Show poor evaluation at unobserved spatial locations and on free-form grids.\n",
    "    3. May not forecast well on new initial conditions\n",
    "    4. Cannot forecast long-term (outside training horizon).\n",
    "\n",
    "## Proposed solution\n",
    "\n",
    "- This work presents `DINo`, a method using continuous-time dynamics of spatially continuous functions. This is done by \n",
    "\n",
    "    1. using Implicit Neural Representations (INRs) to embed spatial observations independently of how they were discretized. \n",
    "    2. At the same time, the temporal progress is modeled with an ordinary differential equation (ODE) in the latent embedding space."
   ]
  },
  {
   "cell_type": "markdown",
   "metadata": {},
   "source": [
    "## PDE Refresher\n",
    "\n",
    "**Formally**: A PDE involves a function $u(x, t)$ and its partial derivative such that \n",
    "\n",
    "$$F(x, t, u(x, t), \\frac{\\partial}{\\partial x}u(x, t), \\frac{\\partial^2}{\\partial x^2}u(x, t), \\dots) = 0$$\n",
    "\n",
    "**Intuitively**: Since $u(x, t)$ is a time-varying function of space, we can also denote it as $v_t(x) = u(x, t)$ which is described by the same PDE.\n",
    "\n",
    "### Example: Heat Equation\n",
    "\n",
    "Given by $\\frac{\\partial}{\\partial t}u(x, t) = \\alpha \\frac{\\partial^2}{\\partial x^2} u(x, t)$, this PDE is visualised in 2D space below, with $\\alpha = 0.02$ and all boundaries insulated at $0$:\n"
   ]
  },
  {
   "cell_type": "code",
   "execution_count": 16,
   "metadata": {},
   "outputs": [
    {
     "data": {
      "text/html": [
       "<img src=\"heat_equation_2d.gif\" width=\"1000\" align=\"center\">"
      ],
      "text/plain": [
       "<IPython.core.display.HTML object>"
      ]
     },
     "execution_count": 16,
     "metadata": {},
     "output_type": "execute_result"
    }
   ],
   "source": [
    "import numpy as np\n",
    "import matplotlib.pyplot as plt\n",
    "from IPython.core.display import HTML\n",
    "from matplotlib.animation import FuncAnimation\n",
    "\n",
    "plt.ioff()\n",
    "\n",
    "nx, ny = 50, 50  # Number of grid points\n",
    "dx = dy = 0.1    # Grid spacing\n",
    "alpha = 0.02     # Thermal diffusivity\n",
    "dt = 0.1         # Time step (chosen for stability)\n",
    "steps = 200      # Number of animation frames\n",
    "skip = 3         # Show every nth arrow\n",
    "\n",
    "x = np.linspace(-2, 2, nx)\n",
    "y = np.linspace(-2, 2, ny)\n",
    "X, Y = np.meshgrid(x, y)\n",
    "u = np.zeros((ny, nx))\n",
    "u[ny//3:2*ny//3, nx//3:2*nx//3] = 100  # Square hot region\n",
    "u += 50 * np.exp(-((X-1)**2 + (Y-1)**2)/0.5)  # Gaussian hot spot\n",
    "\n",
    "def evolve_temperature(u):\n",
    "    d2udx2 = (np.roll(u, 1, axis=1) - 2*u + np.roll(u, -1, axis=1)) / (dx**2)\n",
    "    d2udy2 = (np.roll(u, 1, axis=0) - 2*u + np.roll(u, -1, axis=0)) / (dy**2)\n",
    "    \n",
    "    dudt = alpha * (d2udx2 + d2udy2)\n",
    "    return u + dt * dudt\n",
    "\n",
    "fig, (ax1, ax2) = plt.subplots(1, 2, figsize=(12, 5))\n",
    "fig.suptitle('2D Heat Equation')\n",
    "\n",
    "heatmap = ax1.imshow(u, extent=[-2, 2, -2, 2], origin='lower', \n",
    "                     cmap='inferno', vmin=0, vmax=100)\n",
    "plt.colorbar(heatmap, ax=ax1, label='Temperature')\n",
    "ax1.set_title('Temperature Field')\n",
    "\n",
    "dx_temp = np.gradient(u, dx, axis=1)\n",
    "dy_temp = np.gradient(u, dy, axis=0)\n",
    "quiver = ax2.quiver(\n",
    "    X[::skip, ::skip], \n",
    "    Y[::skip, ::skip],\n",
    "    dx_temp[::skip, ::skip], \n",
    "    dy_temp[::skip, ::skip],\n",
    "    np.sqrt(dx_temp[::skip, ::skip]**2 + dy_temp[::skip, ::skip]**2),\n",
    "    cmap='viridis'\n",
    "    )\n",
    "plt.colorbar(quiver, ax=ax2, label='Temperature Gradient Magnitude')\n",
    "ax2.set_title('Temperature Gradient')\n",
    "\n",
    "def update(frame):\n",
    "    global u\n",
    "    \n",
    "    u = evolve_temperature(u)\n",
    "    heatmap.set_array(u)\n",
    "    \n",
    "    dx_temp = np.gradient(u, dx, axis=1)\n",
    "    dy_temp = np.gradient(u, dy, axis=0)\n",
    "    quiver.set_UVC(dx_temp[::skip, ::skip], dy_temp[::skip, ::skip],\n",
    "                   np.sqrt(dx_temp[::skip, ::skip]**2 + dy_temp[::skip, ::skip]**2))\n",
    "    \n",
    "    return heatmap, quiver\n",
    "\n",
    "ani = FuncAnimation(fig, update, frames=steps, interval=50, blit=True)\n",
    "ani.save(\"heat_equation_2d.gif\", writer=\"pillow\")\n",
    "\n",
    "plt.cla()\n",
    "plt.clf()\n",
    "\n",
    "HTML('<img src=\"heat_equation_2d.gif\" width=\"1000\" align=\"center\">')"
   ]
  },
  {
   "cell_type": "markdown",
   "metadata": {},
   "source": [
    "## `DINo` Notation and Formulation"
   ]
  },
  {
   "cell_type": "code",
   "execution_count": null,
   "metadata": {},
   "outputs": [],
   "source": []
  }
 ],
 "metadata": {
  "kernelspec": {
   "display_name": "pt",
   "language": "python",
   "name": "python3"
  },
  "language_info": {
   "codemirror_mode": {
    "name": "ipython",
    "version": 3
   },
   "file_extension": ".py",
   "mimetype": "text/x-python",
   "name": "python",
   "nbconvert_exporter": "python",
   "pygments_lexer": "ipython3",
   "version": "3.9.19"
  }
 },
 "nbformat": 4,
 "nbformat_minor": 2
}
